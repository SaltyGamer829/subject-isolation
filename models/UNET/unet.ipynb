{
 "cells": [
  {
   "cell_type": "code",
   "execution_count": null,
   "metadata": {},
   "outputs": [],
   "source": [
    "import torch\n",
    "\n",
    "# Load image and segmentation mask\n",
    "IMG_SIZE = (256, 256)\n",
    "\n",
    "# Preprocess image (resize, normalize)\n",
    "\n",
    "# Define U-Net model:\n",
    "    # Encoder path (downsampling):\n",
    "        # conv → relu → conv → relu → maxpool\n",
    "        # repeat, doubling channels\n",
    "\n",
    "    # Decoder path (upsampling):\n",
    "        # upsample → concat with encoder feature map → convs\n",
    "        # repeat, halving channels\n",
    "\n",
    "    # Final 1x1 conv → class scores for each pixel\n",
    "\n",
    "# Forward pass → compute loss → backprop → update\n",
    "\n",
    "# Use trained model to predict segmentation masks\n"
   ]
  }
 ],
 "metadata": {
  "kernelspec": {
   "display_name": "unet",
   "language": "python",
   "name": "python3"
  },
  "language_info": {
   "codemirror_mode": {
    "name": "ipython",
    "version": 3
   },
   "file_extension": ".py",
   "mimetype": "text/x-python",
   "name": "python",
   "nbconvert_exporter": "python",
   "pygments_lexer": "ipython3",
   "version": "3.12.3"
  }
 },
 "nbformat": 4,
 "nbformat_minor": 2
}
